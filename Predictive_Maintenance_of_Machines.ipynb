{
  "nbformat": 4,
  "nbformat_minor": 0,
  "metadata": {
    "colab": {
      "provenance": [],
      "toc_visible": true,
      "authorship_tag": "ABX9TyNPNEcnGGUsuqTDA+nb283I",
      "include_colab_link": true
    },
    "kernelspec": {
      "name": "python3",
      "display_name": "Python 3"
    },
    "language_info": {
      "name": "python"
    }
  },
  "cells": [
    {
      "cell_type": "markdown",
      "metadata": {
        "id": "view-in-github",
        "colab_type": "text"
      },
      "source": [
        "<a href=\"https://colab.research.google.com/github/AlvaroMAlves/Pred-Maintenance-Machine/blob/main/Predictive_Maintenance_of_Machines.ipynb\" target=\"_parent\"><img src=\"https://colab.research.google.com/assets/colab-badge.svg\" alt=\"Open In Colab\"/></a>"
      ]
    },
    {
      "cell_type": "markdown",
      "source": [
        "# Predictive Maintenance of Machines"
      ],
      "metadata": {
        "id": "einH10MPuh-o"
      }
    },
    {
      "cell_type": "markdown",
      "source": [
        "## Introduction"
      ],
      "metadata": {
        "id": "Md1n12UkuuPI"
      }
    },
    {
      "cell_type": "markdown",
      "source": [
        "Import the necessary libraries:"
      ],
      "metadata": {
        "id": "0AhjO6TRu3N7"
      }
    },
    {
      "cell_type": "code",
      "execution_count": 1,
      "metadata": {
        "id": "U2oGSKBDuZp6"
      },
      "outputs": [],
      "source": [
        "import numpy\n",
        "import pandas as pd"
      ]
    },
    {
      "cell_type": "markdown",
      "source": [
        "Import the database from GitHub:"
      ],
      "metadata": {
        "id": "Of03Ps_SvL3Y"
      }
    },
    {
      "cell_type": "code",
      "source": [
        "url = 'https://raw.githubusercontent.com/AlvaroMAlves/Pred-Maintenance-Machine/main/predictive%20maintenance%20of%20machines.csv'\n",
        "df = pd.read_csv(url)"
      ],
      "metadata": {
        "id": "YJTMUDj7vRuA"
      },
      "execution_count": 39,
      "outputs": []
    },
    {
      "cell_type": "markdown",
      "source": [
        "Check the created dataframe:"
      ],
      "metadata": {
        "id": "rQx_KgmBxzzT"
      }
    },
    {
      "cell_type": "code",
      "source": [
        "df.head()"
      ],
      "metadata": {
        "colab": {
          "base_uri": "https://localhost:8080/",
          "height": 206
        },
        "id": "2Yr8up6bx5VD",
        "outputId": "076c9c6f-0b03-4c06-a0a7-c4c55b53adae"
      },
      "execution_count": 40,
      "outputs": [
        {
          "output_type": "execute_result",
          "data": {
            "text/plain": [
              "   UDI Product ID Type  Air temperature [K]  Process temperature [K]  \\\n",
              "0    1     M14860    M                298.1                    308.6   \n",
              "1    2     L47181    L                298.2                    308.7   \n",
              "2    3     L47182    L                298.1                    308.5   \n",
              "3    4     L47183    L                298.2                    308.6   \n",
              "4    5     L47184    L                298.2                    308.7   \n",
              "\n",
              "   Rotational speed [rpm]  Torque [Nm]  Tool wear [min]  Machine failure  TWF  \\\n",
              "0                    1551         42.8                0                0    0   \n",
              "1                    1408         46.3                3                0    0   \n",
              "2                    1498         49.4                5                0    0   \n",
              "3                    1433         39.5                7                0    0   \n",
              "4                    1408         40.0                9                0    0   \n",
              "\n",
              "   HDF  PWF  OSF  RNF  \n",
              "0    0    0    0    0  \n",
              "1    0    0    0    0  \n",
              "2    0    0    0    0  \n",
              "3    0    0    0    0  \n",
              "4    0    0    0    0  "
            ],
            "text/html": [
              "\n",
              "  <div id=\"df-c6e054ec-05a6-458c-b7b4-3702cf0139ff\">\n",
              "    <div class=\"colab-df-container\">\n",
              "      <div>\n",
              "<style scoped>\n",
              "    .dataframe tbody tr th:only-of-type {\n",
              "        vertical-align: middle;\n",
              "    }\n",
              "\n",
              "    .dataframe tbody tr th {\n",
              "        vertical-align: top;\n",
              "    }\n",
              "\n",
              "    .dataframe thead th {\n",
              "        text-align: right;\n",
              "    }\n",
              "</style>\n",
              "<table border=\"1\" class=\"dataframe\">\n",
              "  <thead>\n",
              "    <tr style=\"text-align: right;\">\n",
              "      <th></th>\n",
              "      <th>UDI</th>\n",
              "      <th>Product ID</th>\n",
              "      <th>Type</th>\n",
              "      <th>Air temperature [K]</th>\n",
              "      <th>Process temperature [K]</th>\n",
              "      <th>Rotational speed [rpm]</th>\n",
              "      <th>Torque [Nm]</th>\n",
              "      <th>Tool wear [min]</th>\n",
              "      <th>Machine failure</th>\n",
              "      <th>TWF</th>\n",
              "      <th>HDF</th>\n",
              "      <th>PWF</th>\n",
              "      <th>OSF</th>\n",
              "      <th>RNF</th>\n",
              "    </tr>\n",
              "  </thead>\n",
              "  <tbody>\n",
              "    <tr>\n",
              "      <th>0</th>\n",
              "      <td>1</td>\n",
              "      <td>M14860</td>\n",
              "      <td>M</td>\n",
              "      <td>298.1</td>\n",
              "      <td>308.6</td>\n",
              "      <td>1551</td>\n",
              "      <td>42.8</td>\n",
              "      <td>0</td>\n",
              "      <td>0</td>\n",
              "      <td>0</td>\n",
              "      <td>0</td>\n",
              "      <td>0</td>\n",
              "      <td>0</td>\n",
              "      <td>0</td>\n",
              "    </tr>\n",
              "    <tr>\n",
              "      <th>1</th>\n",
              "      <td>2</td>\n",
              "      <td>L47181</td>\n",
              "      <td>L</td>\n",
              "      <td>298.2</td>\n",
              "      <td>308.7</td>\n",
              "      <td>1408</td>\n",
              "      <td>46.3</td>\n",
              "      <td>3</td>\n",
              "      <td>0</td>\n",
              "      <td>0</td>\n",
              "      <td>0</td>\n",
              "      <td>0</td>\n",
              "      <td>0</td>\n",
              "      <td>0</td>\n",
              "    </tr>\n",
              "    <tr>\n",
              "      <th>2</th>\n",
              "      <td>3</td>\n",
              "      <td>L47182</td>\n",
              "      <td>L</td>\n",
              "      <td>298.1</td>\n",
              "      <td>308.5</td>\n",
              "      <td>1498</td>\n",
              "      <td>49.4</td>\n",
              "      <td>5</td>\n",
              "      <td>0</td>\n",
              "      <td>0</td>\n",
              "      <td>0</td>\n",
              "      <td>0</td>\n",
              "      <td>0</td>\n",
              "      <td>0</td>\n",
              "    </tr>\n",
              "    <tr>\n",
              "      <th>3</th>\n",
              "      <td>4</td>\n",
              "      <td>L47183</td>\n",
              "      <td>L</td>\n",
              "      <td>298.2</td>\n",
              "      <td>308.6</td>\n",
              "      <td>1433</td>\n",
              "      <td>39.5</td>\n",
              "      <td>7</td>\n",
              "      <td>0</td>\n",
              "      <td>0</td>\n",
              "      <td>0</td>\n",
              "      <td>0</td>\n",
              "      <td>0</td>\n",
              "      <td>0</td>\n",
              "    </tr>\n",
              "    <tr>\n",
              "      <th>4</th>\n",
              "      <td>5</td>\n",
              "      <td>L47184</td>\n",
              "      <td>L</td>\n",
              "      <td>298.2</td>\n",
              "      <td>308.7</td>\n",
              "      <td>1408</td>\n",
              "      <td>40.0</td>\n",
              "      <td>9</td>\n",
              "      <td>0</td>\n",
              "      <td>0</td>\n",
              "      <td>0</td>\n",
              "      <td>0</td>\n",
              "      <td>0</td>\n",
              "      <td>0</td>\n",
              "    </tr>\n",
              "  </tbody>\n",
              "</table>\n",
              "</div>\n",
              "      <button class=\"colab-df-convert\" onclick=\"convertToInteractive('df-c6e054ec-05a6-458c-b7b4-3702cf0139ff')\"\n",
              "              title=\"Convert this dataframe to an interactive table.\"\n",
              "              style=\"display:none;\">\n",
              "        \n",
              "  <svg xmlns=\"http://www.w3.org/2000/svg\" height=\"24px\"viewBox=\"0 0 24 24\"\n",
              "       width=\"24px\">\n",
              "    <path d=\"M0 0h24v24H0V0z\" fill=\"none\"/>\n",
              "    <path d=\"M18.56 5.44l.94 2.06.94-2.06 2.06-.94-2.06-.94-.94-2.06-.94 2.06-2.06.94zm-11 1L8.5 8.5l.94-2.06 2.06-.94-2.06-.94L8.5 2.5l-.94 2.06-2.06.94zm10 10l.94 2.06.94-2.06 2.06-.94-2.06-.94-.94-2.06-.94 2.06-2.06.94z\"/><path d=\"M17.41 7.96l-1.37-1.37c-.4-.4-.92-.59-1.43-.59-.52 0-1.04.2-1.43.59L10.3 9.45l-7.72 7.72c-.78.78-.78 2.05 0 2.83L4 21.41c.39.39.9.59 1.41.59.51 0 1.02-.2 1.41-.59l7.78-7.78 2.81-2.81c.8-.78.8-2.07 0-2.86zM5.41 20L4 18.59l7.72-7.72 1.47 1.35L5.41 20z\"/>\n",
              "  </svg>\n",
              "      </button>\n",
              "      \n",
              "  <style>\n",
              "    .colab-df-container {\n",
              "      display:flex;\n",
              "      flex-wrap:wrap;\n",
              "      gap: 12px;\n",
              "    }\n",
              "\n",
              "    .colab-df-convert {\n",
              "      background-color: #E8F0FE;\n",
              "      border: none;\n",
              "      border-radius: 50%;\n",
              "      cursor: pointer;\n",
              "      display: none;\n",
              "      fill: #1967D2;\n",
              "      height: 32px;\n",
              "      padding: 0 0 0 0;\n",
              "      width: 32px;\n",
              "    }\n",
              "\n",
              "    .colab-df-convert:hover {\n",
              "      background-color: #E2EBFA;\n",
              "      box-shadow: 0px 1px 2px rgba(60, 64, 67, 0.3), 0px 1px 3px 1px rgba(60, 64, 67, 0.15);\n",
              "      fill: #174EA6;\n",
              "    }\n",
              "\n",
              "    [theme=dark] .colab-df-convert {\n",
              "      background-color: #3B4455;\n",
              "      fill: #D2E3FC;\n",
              "    }\n",
              "\n",
              "    [theme=dark] .colab-df-convert:hover {\n",
              "      background-color: #434B5C;\n",
              "      box-shadow: 0px 1px 3px 1px rgba(0, 0, 0, 0.15);\n",
              "      filter: drop-shadow(0px 1px 2px rgba(0, 0, 0, 0.3));\n",
              "      fill: #FFFFFF;\n",
              "    }\n",
              "  </style>\n",
              "\n",
              "      <script>\n",
              "        const buttonEl =\n",
              "          document.querySelector('#df-c6e054ec-05a6-458c-b7b4-3702cf0139ff button.colab-df-convert');\n",
              "        buttonEl.style.display =\n",
              "          google.colab.kernel.accessAllowed ? 'block' : 'none';\n",
              "\n",
              "        async function convertToInteractive(key) {\n",
              "          const element = document.querySelector('#df-c6e054ec-05a6-458c-b7b4-3702cf0139ff');\n",
              "          const dataTable =\n",
              "            await google.colab.kernel.invokeFunction('convertToInteractive',\n",
              "                                                     [key], {});\n",
              "          if (!dataTable) return;\n",
              "\n",
              "          const docLinkHtml = 'Like what you see? Visit the ' +\n",
              "            '<a target=\"_blank\" href=https://colab.research.google.com/notebooks/data_table.ipynb>data table notebook</a>'\n",
              "            + ' to learn more about interactive tables.';\n",
              "          element.innerHTML = '';\n",
              "          dataTable['output_type'] = 'display_data';\n",
              "          await google.colab.output.renderOutput(dataTable, element);\n",
              "          const docLink = document.createElement('div');\n",
              "          docLink.innerHTML = docLinkHtml;\n",
              "          element.appendChild(docLink);\n",
              "        }\n",
              "      </script>\n",
              "    </div>\n",
              "  </div>\n",
              "  "
            ]
          },
          "metadata": {},
          "execution_count": 40
        }
      ]
    },
    {
      "cell_type": "markdown",
      "source": [
        "The column analysis is as follows:\n",
        "\n",
        "Machines have an ID and an ordinal categorical variable indicating the quality\n",
        "of the machines, classified as Low, Medium, and High.\n",
        "\n",
        "Data acquisition follows a time series. Observed data includes air temperature, process temperature, rotational speed, torque, and tool wear.\n",
        "\n",
        "Starting from the \"Machine Failure\" column, the subsequent columns indicate binary information regarding the occurrence of a failure and specify the type of failure, following the mentioned format:\n",
        "\n",
        "*   Tool wear failure (TWF)\n",
        "*   Heat dissipation failure (HDF)\n",
        "*   Power failure (PWF)\n",
        "*   Overstrain failure (OSF)\n",
        "*   Random failures (RNF)\n"
      ],
      "metadata": {
        "id": "E2irHoMtymrE"
      }
    },
    {
      "cell_type": "markdown",
      "source": [
        "Rename de column \"UDI\" to \"UID\", and setting \"UID\" as dataframe index:"
      ],
      "metadata": {
        "id": "ad3pvAZ9FgwO"
      }
    },
    {
      "cell_type": "code",
      "source": [
        "df.rename(columns={'UDI': 'UID'}, inplace=True)\n",
        "df.set_index('UID', inplace=True)"
      ],
      "metadata": {
        "id": "ZdcdjvMAFWsn"
      },
      "execution_count": 41,
      "outputs": []
    },
    {
      "cell_type": "code",
      "source": [
        "df.head()"
      ],
      "metadata": {
        "colab": {
          "base_uri": "https://localhost:8080/",
          "height": 238
        },
        "id": "FUvwKFH6GK5p",
        "outputId": "52418ffb-eb62-46ca-db53-1fa27e0e5433"
      },
      "execution_count": 42,
      "outputs": [
        {
          "output_type": "execute_result",
          "data": {
            "text/plain": [
              "    Product ID Type  Air temperature [K]  Process temperature [K]  \\\n",
              "UID                                                                 \n",
              "1       M14860    M                298.1                    308.6   \n",
              "2       L47181    L                298.2                    308.7   \n",
              "3       L47182    L                298.1                    308.5   \n",
              "4       L47183    L                298.2                    308.6   \n",
              "5       L47184    L                298.2                    308.7   \n",
              "\n",
              "     Rotational speed [rpm]  Torque [Nm]  Tool wear [min]  Machine failure  \\\n",
              "UID                                                                          \n",
              "1                      1551         42.8                0                0   \n",
              "2                      1408         46.3                3                0   \n",
              "3                      1498         49.4                5                0   \n",
              "4                      1433         39.5                7                0   \n",
              "5                      1408         40.0                9                0   \n",
              "\n",
              "     TWF  HDF  PWF  OSF  RNF  \n",
              "UID                           \n",
              "1      0    0    0    0    0  \n",
              "2      0    0    0    0    0  \n",
              "3      0    0    0    0    0  \n",
              "4      0    0    0    0    0  \n",
              "5      0    0    0    0    0  "
            ],
            "text/html": [
              "\n",
              "  <div id=\"df-9b59d0e7-98a3-4cea-9291-a532cb35dd51\">\n",
              "    <div class=\"colab-df-container\">\n",
              "      <div>\n",
              "<style scoped>\n",
              "    .dataframe tbody tr th:only-of-type {\n",
              "        vertical-align: middle;\n",
              "    }\n",
              "\n",
              "    .dataframe tbody tr th {\n",
              "        vertical-align: top;\n",
              "    }\n",
              "\n",
              "    .dataframe thead th {\n",
              "        text-align: right;\n",
              "    }\n",
              "</style>\n",
              "<table border=\"1\" class=\"dataframe\">\n",
              "  <thead>\n",
              "    <tr style=\"text-align: right;\">\n",
              "      <th></th>\n",
              "      <th>Product ID</th>\n",
              "      <th>Type</th>\n",
              "      <th>Air temperature [K]</th>\n",
              "      <th>Process temperature [K]</th>\n",
              "      <th>Rotational speed [rpm]</th>\n",
              "      <th>Torque [Nm]</th>\n",
              "      <th>Tool wear [min]</th>\n",
              "      <th>Machine failure</th>\n",
              "      <th>TWF</th>\n",
              "      <th>HDF</th>\n",
              "      <th>PWF</th>\n",
              "      <th>OSF</th>\n",
              "      <th>RNF</th>\n",
              "    </tr>\n",
              "    <tr>\n",
              "      <th>UID</th>\n",
              "      <th></th>\n",
              "      <th></th>\n",
              "      <th></th>\n",
              "      <th></th>\n",
              "      <th></th>\n",
              "      <th></th>\n",
              "      <th></th>\n",
              "      <th></th>\n",
              "      <th></th>\n",
              "      <th></th>\n",
              "      <th></th>\n",
              "      <th></th>\n",
              "      <th></th>\n",
              "    </tr>\n",
              "  </thead>\n",
              "  <tbody>\n",
              "    <tr>\n",
              "      <th>1</th>\n",
              "      <td>M14860</td>\n",
              "      <td>M</td>\n",
              "      <td>298.1</td>\n",
              "      <td>308.6</td>\n",
              "      <td>1551</td>\n",
              "      <td>42.8</td>\n",
              "      <td>0</td>\n",
              "      <td>0</td>\n",
              "      <td>0</td>\n",
              "      <td>0</td>\n",
              "      <td>0</td>\n",
              "      <td>0</td>\n",
              "      <td>0</td>\n",
              "    </tr>\n",
              "    <tr>\n",
              "      <th>2</th>\n",
              "      <td>L47181</td>\n",
              "      <td>L</td>\n",
              "      <td>298.2</td>\n",
              "      <td>308.7</td>\n",
              "      <td>1408</td>\n",
              "      <td>46.3</td>\n",
              "      <td>3</td>\n",
              "      <td>0</td>\n",
              "      <td>0</td>\n",
              "      <td>0</td>\n",
              "      <td>0</td>\n",
              "      <td>0</td>\n",
              "      <td>0</td>\n",
              "    </tr>\n",
              "    <tr>\n",
              "      <th>3</th>\n",
              "      <td>L47182</td>\n",
              "      <td>L</td>\n",
              "      <td>298.1</td>\n",
              "      <td>308.5</td>\n",
              "      <td>1498</td>\n",
              "      <td>49.4</td>\n",
              "      <td>5</td>\n",
              "      <td>0</td>\n",
              "      <td>0</td>\n",
              "      <td>0</td>\n",
              "      <td>0</td>\n",
              "      <td>0</td>\n",
              "      <td>0</td>\n",
              "    </tr>\n",
              "    <tr>\n",
              "      <th>4</th>\n",
              "      <td>L47183</td>\n",
              "      <td>L</td>\n",
              "      <td>298.2</td>\n",
              "      <td>308.6</td>\n",
              "      <td>1433</td>\n",
              "      <td>39.5</td>\n",
              "      <td>7</td>\n",
              "      <td>0</td>\n",
              "      <td>0</td>\n",
              "      <td>0</td>\n",
              "      <td>0</td>\n",
              "      <td>0</td>\n",
              "      <td>0</td>\n",
              "    </tr>\n",
              "    <tr>\n",
              "      <th>5</th>\n",
              "      <td>L47184</td>\n",
              "      <td>L</td>\n",
              "      <td>298.2</td>\n",
              "      <td>308.7</td>\n",
              "      <td>1408</td>\n",
              "      <td>40.0</td>\n",
              "      <td>9</td>\n",
              "      <td>0</td>\n",
              "      <td>0</td>\n",
              "      <td>0</td>\n",
              "      <td>0</td>\n",
              "      <td>0</td>\n",
              "      <td>0</td>\n",
              "    </tr>\n",
              "  </tbody>\n",
              "</table>\n",
              "</div>\n",
              "      <button class=\"colab-df-convert\" onclick=\"convertToInteractive('df-9b59d0e7-98a3-4cea-9291-a532cb35dd51')\"\n",
              "              title=\"Convert this dataframe to an interactive table.\"\n",
              "              style=\"display:none;\">\n",
              "        \n",
              "  <svg xmlns=\"http://www.w3.org/2000/svg\" height=\"24px\"viewBox=\"0 0 24 24\"\n",
              "       width=\"24px\">\n",
              "    <path d=\"M0 0h24v24H0V0z\" fill=\"none\"/>\n",
              "    <path d=\"M18.56 5.44l.94 2.06.94-2.06 2.06-.94-2.06-.94-.94-2.06-.94 2.06-2.06.94zm-11 1L8.5 8.5l.94-2.06 2.06-.94-2.06-.94L8.5 2.5l-.94 2.06-2.06.94zm10 10l.94 2.06.94-2.06 2.06-.94-2.06-.94-.94-2.06-.94 2.06-2.06.94z\"/><path d=\"M17.41 7.96l-1.37-1.37c-.4-.4-.92-.59-1.43-.59-.52 0-1.04.2-1.43.59L10.3 9.45l-7.72 7.72c-.78.78-.78 2.05 0 2.83L4 21.41c.39.39.9.59 1.41.59.51 0 1.02-.2 1.41-.59l7.78-7.78 2.81-2.81c.8-.78.8-2.07 0-2.86zM5.41 20L4 18.59l7.72-7.72 1.47 1.35L5.41 20z\"/>\n",
              "  </svg>\n",
              "      </button>\n",
              "      \n",
              "  <style>\n",
              "    .colab-df-container {\n",
              "      display:flex;\n",
              "      flex-wrap:wrap;\n",
              "      gap: 12px;\n",
              "    }\n",
              "\n",
              "    .colab-df-convert {\n",
              "      background-color: #E8F0FE;\n",
              "      border: none;\n",
              "      border-radius: 50%;\n",
              "      cursor: pointer;\n",
              "      display: none;\n",
              "      fill: #1967D2;\n",
              "      height: 32px;\n",
              "      padding: 0 0 0 0;\n",
              "      width: 32px;\n",
              "    }\n",
              "\n",
              "    .colab-df-convert:hover {\n",
              "      background-color: #E2EBFA;\n",
              "      box-shadow: 0px 1px 2px rgba(60, 64, 67, 0.3), 0px 1px 3px 1px rgba(60, 64, 67, 0.15);\n",
              "      fill: #174EA6;\n",
              "    }\n",
              "\n",
              "    [theme=dark] .colab-df-convert {\n",
              "      background-color: #3B4455;\n",
              "      fill: #D2E3FC;\n",
              "    }\n",
              "\n",
              "    [theme=dark] .colab-df-convert:hover {\n",
              "      background-color: #434B5C;\n",
              "      box-shadow: 0px 1px 3px 1px rgba(0, 0, 0, 0.15);\n",
              "      filter: drop-shadow(0px 1px 2px rgba(0, 0, 0, 0.3));\n",
              "      fill: #FFFFFF;\n",
              "    }\n",
              "  </style>\n",
              "\n",
              "      <script>\n",
              "        const buttonEl =\n",
              "          document.querySelector('#df-9b59d0e7-98a3-4cea-9291-a532cb35dd51 button.colab-df-convert');\n",
              "        buttonEl.style.display =\n",
              "          google.colab.kernel.accessAllowed ? 'block' : 'none';\n",
              "\n",
              "        async function convertToInteractive(key) {\n",
              "          const element = document.querySelector('#df-9b59d0e7-98a3-4cea-9291-a532cb35dd51');\n",
              "          const dataTable =\n",
              "            await google.colab.kernel.invokeFunction('convertToInteractive',\n",
              "                                                     [key], {});\n",
              "          if (!dataTable) return;\n",
              "\n",
              "          const docLinkHtml = 'Like what you see? Visit the ' +\n",
              "            '<a target=\"_blank\" href=https://colab.research.google.com/notebooks/data_table.ipynb>data table notebook</a>'\n",
              "            + ' to learn more about interactive tables.';\n",
              "          element.innerHTML = '';\n",
              "          dataTable['output_type'] = 'display_data';\n",
              "          await google.colab.output.renderOutput(dataTable, element);\n",
              "          const docLink = document.createElement('div');\n",
              "          docLink.innerHTML = docLinkHtml;\n",
              "          element.appendChild(docLink);\n",
              "        }\n",
              "      </script>\n",
              "    </div>\n",
              "  </div>\n",
              "  "
            ]
          },
          "metadata": {},
          "execution_count": 42
        }
      ]
    },
    {
      "cell_type": "markdown",
      "source": [
        "## Exploratory Data Analysis"
      ],
      "metadata": {
        "id": "qpsfLeky4itM"
      }
    },
    {
      "cell_type": "markdown",
      "source": [
        "### Overview of the columns:"
      ],
      "metadata": {
        "id": "XqkqYBPs4901"
      }
    },
    {
      "cell_type": "code",
      "source": [
        "print(df.info())"
      ],
      "metadata": {
        "colab": {
          "base_uri": "https://localhost:8080/"
        },
        "id": "Dkv4ZAEN10ug",
        "outputId": "90422197-b574-436a-dbb1-995ed371f80c"
      },
      "execution_count": 43,
      "outputs": [
        {
          "output_type": "stream",
          "name": "stdout",
          "text": [
            "<class 'pandas.core.frame.DataFrame'>\n",
            "Int64Index: 10000 entries, 1 to 10000\n",
            "Data columns (total 13 columns):\n",
            " #   Column                   Non-Null Count  Dtype  \n",
            "---  ------                   --------------  -----  \n",
            " 0   Product ID               10000 non-null  object \n",
            " 1   Type                     10000 non-null  object \n",
            " 2   Air temperature [K]      10000 non-null  float64\n",
            " 3   Process temperature [K]  10000 non-null  float64\n",
            " 4   Rotational speed [rpm]   10000 non-null  int64  \n",
            " 5   Torque [Nm]              10000 non-null  float64\n",
            " 6   Tool wear [min]          10000 non-null  int64  \n",
            " 7   Machine failure          10000 non-null  int64  \n",
            " 8   TWF                      10000 non-null  int64  \n",
            " 9   HDF                      10000 non-null  int64  \n",
            " 10  PWF                      10000 non-null  int64  \n",
            " 11  OSF                      10000 non-null  int64  \n",
            " 12  RNF                      10000 non-null  int64  \n",
            "dtypes: float64(3), int64(8), object(2)\n",
            "memory usage: 1.1+ MB\n",
            "None\n"
          ]
        }
      ]
    },
    {
      "cell_type": "markdown",
      "source": [
        "We can observe that there are 10,000 rows and no null values in the dataset. Additionally, the columns \"Air temperature\", \"Process temperature,\" and \"Torque\" are numeric continuous variables, while the \"Rotational Speed\" column contains discrete values."
      ],
      "metadata": {
        "id": "7hIctedW6Ak4"
      }
    },
    {
      "cell_type": "markdown",
      "source": [
        "### Descriptive Statistics Analysis"
      ],
      "metadata": {
        "id": "q-3TKI4N8efl"
      }
    },
    {
      "cell_type": "code",
      "source": [
        "print(df.describe())"
      ],
      "metadata": {
        "colab": {
          "base_uri": "https://localhost:8080/"
        },
        "id": "VOnncX_R6IVP",
        "outputId": "3e186efb-ad06-44e1-cb36-cad6a7c13687"
      },
      "execution_count": 44,
      "outputs": [
        {
          "output_type": "stream",
          "name": "stdout",
          "text": [
            "       Air temperature [K]  Process temperature [K]  Rotational speed [rpm]  \\\n",
            "count         10000.000000             10000.000000            10000.000000   \n",
            "mean            300.004930               310.005560             1538.776100   \n",
            "std               2.000259                 1.483734              179.284096   \n",
            "min             295.300000               305.700000             1168.000000   \n",
            "25%             298.300000               308.800000             1423.000000   \n",
            "50%             300.100000               310.100000             1503.000000   \n",
            "75%             301.500000               311.100000             1612.000000   \n",
            "max             304.500000               313.800000             2886.000000   \n",
            "\n",
            "        Torque [Nm]  Tool wear [min]  Machine failure           TWF  \\\n",
            "count  10000.000000     10000.000000     10000.000000  10000.000000   \n",
            "mean      39.986910       107.951000         0.033900      0.004600   \n",
            "std        9.968934        63.654147         0.180981      0.067671   \n",
            "min        3.800000         0.000000         0.000000      0.000000   \n",
            "25%       33.200000        53.000000         0.000000      0.000000   \n",
            "50%       40.100000       108.000000         0.000000      0.000000   \n",
            "75%       46.800000       162.000000         0.000000      0.000000   \n",
            "max       76.600000       253.000000         1.000000      1.000000   \n",
            "\n",
            "                HDF           PWF           OSF          RNF  \n",
            "count  10000.000000  10000.000000  10000.000000  10000.00000  \n",
            "mean       0.011500      0.009500      0.009800      0.00190  \n",
            "std        0.106625      0.097009      0.098514      0.04355  \n",
            "min        0.000000      0.000000      0.000000      0.00000  \n",
            "25%        0.000000      0.000000      0.000000      0.00000  \n",
            "50%        0.000000      0.000000      0.000000      0.00000  \n",
            "75%        0.000000      0.000000      0.000000      0.00000  \n",
            "max        1.000000      1.000000      1.000000      1.00000  \n"
          ]
        }
      ]
    },
    {
      "cell_type": "markdown",
      "source": [
        "It doesn't seem to have any inconsistent values. All the binary variables have a minimum value of 0 and a maximum value of 1. Let's count the number of failures and failure types:"
      ],
      "metadata": {
        "id": "RfotzwszAj-5"
      }
    },
    {
      "cell_type": "code",
      "source": [
        "column_counts = df.loc[df['Machine failure'] == 1, 'Machine failure':'RNF'].sum()\n",
        "print(column_counts)"
      ],
      "metadata": {
        "colab": {
          "base_uri": "https://localhost:8080/"
        },
        "id": "YxAQ3dqE-7r5",
        "outputId": "991464ac-132c-4a4a-c35f-9090387277d5"
      },
      "execution_count": 45,
      "outputs": [
        {
          "output_type": "stream",
          "name": "stdout",
          "text": [
            "Machine failure    339\n",
            "TWF                 46\n",
            "HDF                115\n",
            "PWF                 95\n",
            "OSF                 98\n",
            "RNF                  1\n",
            "dtype: int64\n"
          ]
        }
      ]
    },
    {
      "cell_type": "markdown",
      "source": [
        "The total number of failures is 339. The sum of failure types is 355. Let's see if there are rows with 2 or more failure types:"
      ],
      "metadata": {
        "id": "ICBWPRdoAzzp"
      }
    },
    {
      "cell_type": "code",
      "source": [
        "rows_with_two_failures = df[(df['Machine failure'] == 1) & (df[['TWF', 'HDF', 'PWF', 'OSF', 'RNF']].sum(axis=1) > 1)]\n",
        "\n",
        "# rows with 2 or more failure types\n",
        "selected_columns = ['Machine failure', 'TWF', 'HDF', 'PWF', 'OSF', 'RNF']\n",
        "print(rows_with_two_failures[selected_columns])\n",
        "\n",
        "# rows count\n",
        "count_rows = rows_with_two_failures.shape[0]\n",
        "print(\"\\n\",\"Rows Count:\", count_rows)"
      ],
      "metadata": {
        "colab": {
          "base_uri": "https://localhost:8080/"
        },
        "id": "jeukRCvh_UT6",
        "outputId": "254390ba-358a-493c-9f61-668814b0e941"
      },
      "execution_count": 48,
      "outputs": [
        {
          "output_type": "stream",
          "name": "stdout",
          "text": [
            "      Machine failure  TWF  HDF  PWF  OSF  RNF\n",
            "UID                                           \n",
            "70                  1    0    0    1    1    0\n",
            "1325                1    0    0    1    1    0\n",
            "1497                1    0    0    1    1    0\n",
            "3612                1    1    0    0    0    1\n",
            "3855                1    0    0    1    1    0\n",
            "3944                1    0    0    1    1    0\n",
            "4255                1    0    1    1    0    0\n",
            "4343                1    0    1    1    0    0\n",
            "4371                1    0    1    0    1    0\n",
            "4384                1    0    1    0    1    0\n",
            "4418                1    0    1    1    0    0\n",
            "4463                1    0    1    0    1    0\n",
            "4643                1    0    1    0    1    0\n",
            "4644                1    0    1    0    1    0\n",
            "4730                1    0    1    0    1    0\n",
            "5395                1    0    0    1    1    0\n",
            "5402                1    1    0    0    1    0\n",
            "5910                1    1    0    1    1    0\n",
            "6249                1    0    0    1    1    0\n",
            "7084                1    0    0    1    1    0\n",
            "8847                1    1    0    0    1    0\n",
            "8927                1    0    0    1    1    0\n",
            "9085                1    0    0    1    1    0\n",
            "9975                1    0    0    1    1    0\n",
            "\n",
            " Rows Count: 24\n"
          ]
        }
      ]
    },
    {
      "cell_type": "markdown",
      "source": [
        "There are 23 rows with 2 and 1 row with 3 failure types, but numbers don't match yet. There must be some rows without any specified failure types:"
      ],
      "metadata": {
        "id": "lFj9hky0Gj6p"
      }
    },
    {
      "cell_type": "code",
      "source": [
        "rows_without_failures = df[(df['Machine failure'] == 1) & (df[['TWF', 'HDF', 'PWF', 'OSF', 'RNF']].sum(axis=1) == 0)]\n",
        "\n",
        "# rows without any specified failure types\n",
        "print(rows_without_failures[selected_columns])\n",
        "\n",
        "# rows count\n",
        "count_zero = rows_without_failures.shape[0]\n",
        "print(\"\\n\",\"Rows Count:\", count_zero)"
      ],
      "metadata": {
        "colab": {
          "base_uri": "https://localhost:8080/"
        },
        "id": "wN7iMu8HB-Jb",
        "outputId": "e75648f3-b6f0-4bd9-c3fd-ffa8facc98ec"
      },
      "execution_count": 51,
      "outputs": [
        {
          "output_type": "stream",
          "name": "stdout",
          "text": [
            "      Machine failure  TWF  HDF  PWF  OSF  RNF\n",
            "UID                                           \n",
            "1438                1    0    0    0    0    0\n",
            "2750                1    0    0    0    0    0\n",
            "4045                1    0    0    0    0    0\n",
            "4685                1    0    0    0    0    0\n",
            "5537                1    0    0    0    0    0\n",
            "5942                1    0    0    0    0    0\n",
            "6479                1    0    0    0    0    0\n",
            "8507                1    0    0    0    0    0\n",
            "9016                1    0    0    0    0    0\n",
            "\n",
            " Rows Count: 9\n"
          ]
        }
      ]
    },
    {
      "cell_type": "markdown",
      "source": [
        "The analysis is now correct. The total sum of failure types is 355. We have identified 23 rows with 2 failure types, one row with 3 failure types, and 9 rows without any failure types. Interestingly, this adds up to a total of 339, which matches exactly with the total count of machine failures."
      ],
      "metadata": {
        "id": "tE0dK1kPJb3t"
      }
    }
  ]
}